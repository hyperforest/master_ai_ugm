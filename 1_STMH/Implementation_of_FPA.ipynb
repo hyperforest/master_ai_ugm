{
  "cells": [
    {
      "cell_type": "markdown",
      "metadata": {
        "id": "QCih0DNiWfpp"
      },
      "source": [
        "# An Implementation of Flower Pollination Algorithm using Python\n",
        "\n",
        "Note that in this example, the FPA will be used to find the global minima of Six Hump Camel Function"
      ]
    },
    {
      "cell_type": "code",
      "execution_count": 76,
      "metadata": {
        "id": "T4dLnp4ZZtR1"
      },
      "outputs": [],
      "source": [
        "import numpy as np\n",
        "from scipy.stats import levy\n",
        "import pandas as pd\n",
        "import matplotlib.pyplot as plt\n",
        "\n",
        "from matplotlib import animation"
      ]
    },
    {
      "cell_type": "code",
      "execution_count": 24,
      "metadata": {},
      "outputs": [
        {
          "data": {
            "text/html": [
              "<div>\n",
              "<style scoped>\n",
              "    .dataframe tbody tr th:only-of-type {\n",
              "        vertical-align: middle;\n",
              "    }\n",
              "\n",
              "    .dataframe tbody tr th {\n",
              "        vertical-align: top;\n",
              "    }\n",
              "\n",
              "    .dataframe thead th {\n",
              "        text-align: right;\n",
              "    }\n",
              "</style>\n",
              "<table border=\"1\" class=\"dataframe\">\n",
              "  <thead>\n",
              "    <tr style=\"text-align: right;\">\n",
              "      <th></th>\n",
              "      <th>Migas</th>\n",
              "      <th>Non Migas</th>\n",
              "      <th>Jumlah</th>\n",
              "    </tr>\n",
              "    <tr>\n",
              "      <th>periode</th>\n",
              "      <th></th>\n",
              "      <th></th>\n",
              "      <th></th>\n",
              "    </tr>\n",
              "  </thead>\n",
              "  <tbody>\n",
              "    <tr>\n",
              "      <th>2020 January</th>\n",
              "      <td>2069.7</td>\n",
              "      <td>48830.4</td>\n",
              "      <td>50900.1</td>\n",
              "    </tr>\n",
              "    <tr>\n",
              "      <th>2020 February</th>\n",
              "      <td>2166.9</td>\n",
              "      <td>47504.3</td>\n",
              "      <td>49671.2</td>\n",
              "    </tr>\n",
              "    <tr>\n",
              "      <th>2020 March</th>\n",
              "      <td>2007.4</td>\n",
              "      <td>52061.4</td>\n",
              "      <td>54068.8</td>\n",
              "    </tr>\n",
              "    <tr>\n",
              "      <th>2020 April</th>\n",
              "      <td>1929.8</td>\n",
              "      <td>43242.9</td>\n",
              "      <td>45172.7</td>\n",
              "    </tr>\n",
              "    <tr>\n",
              "      <th>2020 May</th>\n",
              "      <td>2153.5</td>\n",
              "      <td>40082.7</td>\n",
              "      <td>42236.2</td>\n",
              "    </tr>\n",
              "    <tr>\n",
              "      <th>2020 June</th>\n",
              "      <td>2288.9</td>\n",
              "      <td>44098.9</td>\n",
              "      <td>46387.8</td>\n",
              "    </tr>\n",
              "    <tr>\n",
              "      <th>2020 July</th>\n",
              "      <td>2260.6</td>\n",
              "      <td>43809.3</td>\n",
              "      <td>46069.9</td>\n",
              "    </tr>\n",
              "    <tr>\n",
              "      <th>2020 August</th>\n",
              "      <td>2204.9</td>\n",
              "      <td>41360.3</td>\n",
              "      <td>43565.2</td>\n",
              "    </tr>\n",
              "    <tr>\n",
              "      <th>2020 September</th>\n",
              "      <td>2478.2</td>\n",
              "      <td>41454.9</td>\n",
              "      <td>43933.1</td>\n",
              "    </tr>\n",
              "    <tr>\n",
              "      <th>2020 October</th>\n",
              "      <td>2054.3</td>\n",
              "      <td>45063.5</td>\n",
              "      <td>47117.8</td>\n",
              "    </tr>\n",
              "  </tbody>\n",
              "</table>\n",
              "</div>"
            ],
            "text/plain": [
              "                 Migas  Non Migas   Jumlah\n",
              "periode                                   \n",
              "2020 January    2069.7    48830.4  50900.1\n",
              "2020 February   2166.9    47504.3  49671.2\n",
              "2020 March      2007.4    52061.4  54068.8\n",
              "2020 April      1929.8    43242.9  45172.7\n",
              "2020 May        2153.5    40082.7  42236.2\n",
              "2020 June       2288.9    44098.9  46387.8\n",
              "2020 July       2260.6    43809.3  46069.9\n",
              "2020 August     2204.9    41360.3  43565.2\n",
              "2020 September  2478.2    41454.9  43933.1\n",
              "2020 October    2054.3    45063.5  47117.8"
            ]
          },
          "execution_count": 24,
          "metadata": {},
          "output_type": "execute_result"
        }
      ],
      "source": [
        "df = pd.read_excel('dataset.xlsx')\n",
        "df = df.drop('Unnamed: 0', axis=1)\n",
        "df['periode'] = df['Tahun'].astype(str) + ' ' + df['Bulan']\n",
        "df = df.drop(['Tahun', 'Bulan'], axis=1)\n",
        "df = df.set_index('periode')\n",
        "df.head(10)"
      ]
    },
    {
      "cell_type": "code",
      "execution_count": 62,
      "metadata": {},
      "outputs": [
        {
          "data": {
            "text/plain": [
              "6596663600.35006"
            ]
          },
          "execution_count": 62,
          "metadata": {},
          "output_type": "execute_result"
        }
      ],
      "source": []
    },
    {
      "cell_type": "code",
      "execution_count": 97,
      "metadata": {},
      "outputs": [],
      "source": [
        "y = df['Migas']\n",
        "lookback = 6\n",
        "\n",
        "def predict(x, weights):\n",
        "    return np.sum(x.values * weights[1:]) + weights[0]\n",
        "\n",
        "def objective(weights):\n",
        "    preds = []\n",
        "\n",
        "    for i in range(lookback, len(df)):\n",
        "        x = y[i-lookback:i]\n",
        "        pred = predict(x, weights)\n",
        "        preds.append(pred)\n",
        "\n",
        "    preds = np.array(preds)\n",
        "    target = y[lookback:].values\n",
        "    mse = np.mean(np.square(target - preds))\n",
        "    return mse"
      ]
    },
    {
      "cell_type": "code",
      "execution_count": 102,
      "metadata": {},
      "outputs": [],
      "source": [
        "np.random.seed(42)\n",
        "\n",
        "def run_fpa(num_flowers, p, gamma, max_iterations, verbose=True):\n",
        "    # Initialize population\n",
        "    flowers = np.random.uniform(-1, 1, (num_flowers, lookback+1)) * 10\n",
        "\n",
        "    # Determine best solution\n",
        "    g_star = flowers[0]\n",
        "    for flower in flowers:\n",
        "        if objective(flower) < objective(g_star):\n",
        "            g_star = flower\n",
        "\n",
        "    # print(flowers.round(2))\n",
        "    if verbose:\n",
        "        print('Initial best objective:')\n",
        "        print(objective(g_star))\n",
        "\n",
        "    # FPA\n",
        "    results = []\n",
        "    for t in range(max_iterations):\n",
        "        for i in range(num_flowers):\n",
        "            rand = np.random.uniform(0, 1)\n",
        "\n",
        "            if rand < p:\n",
        "                # global pollination\n",
        "                L = levy.rvs(size=flower.shape[0])\n",
        "                new_flower = flowers[i] + gamma * L * (g_star - flowers[i])\n",
        "            else:\n",
        "                # local\n",
        "                epsilon = np.random.uniform(0, 1)\n",
        "                j, k = np.random.choice(num_flowers, 2, replace=False)\n",
        "                new_flower = flowers[i] + epsilon * (flowers[j] - flowers[k])\n",
        "\n",
        "            # update if better\n",
        "            new_objective = objective(new_flower)\n",
        "            if new_objective < objective(flowers[i]):\n",
        "                flowers[i] = new_flower\n",
        "\n",
        "        # find new g_star\n",
        "        for flower in flowers:\n",
        "            if objective(flower) < objective(g_star):\n",
        "                g_star = flower\n",
        "\n",
        "        best_objective = objective(g_star)\n",
        "        results.append(best_objective)\n",
        "        if verbose:\n",
        "            print(f'Iteration {t+1}: {best_objective:.2f}')\n",
        "\n",
        "    return results"
      ]
    },
    {
      "cell_type": "code",
      "execution_count": 104,
      "metadata": {},
      "outputs": [
        {
          "name": "stdout",
          "output_type": "stream",
          "text": [
            "Initial best objective:\n",
            "9955292.931149555\n",
            "Iteration 1: 9955292.93\n",
            "Iteration 2: 6306305.74\n",
            "Iteration 3: 6306305.74\n",
            "Iteration 4: 4073670.91\n",
            "Iteration 5: 4073670.91\n",
            "Iteration 6: 4073670.91\n",
            "Iteration 7: 4073670.91\n",
            "Iteration 8: 4073670.91\n",
            "Iteration 9: 3464621.52\n",
            "Iteration 10: 3464621.52\n"
          ]
        }
      ],
      "source": [
        "num_flowers = 100\n",
        "p = 0.5\n",
        "gamma = 0.1\n",
        "max_iterations = 10\n",
        "\n",
        "results = run_fpa(num_flowers, p, gamma, max_iterations)"
      ]
    },
    {
      "cell_type": "code",
      "execution_count": 100,
      "metadata": {},
      "outputs": [
        {
          "data": {
            "text/plain": [
              "111940.74747158132"
            ]
          },
          "execution_count": 100,
          "metadata": {},
          "output_type": "execute_result"
        }
      ],
      "source": [
        "objective(g_star)"
      ]
    },
    {
      "cell_type": "code",
      "execution_count": 101,
      "metadata": {},
      "outputs": [
        {
          "data": {
            "text/plain": [
              "2094.7720968177755"
            ]
          },
          "execution_count": 101,
          "metadata": {},
          "output_type": "execute_result"
        }
      ],
      "source": [
        "predict(y[-lookback:], g_star)"
      ]
    }
  ],
  "metadata": {
    "colab": {
      "name": "Implementation of FPA",
      "provenance": []
    },
    "kernelspec": {
      "display_name": "Python 3.9.7 64-bit",
      "language": "python",
      "name": "python3"
    },
    "language_info": {
      "codemirror_mode": {
        "name": "ipython",
        "version": 3
      },
      "file_extension": ".py",
      "mimetype": "text/x-python",
      "name": "python",
      "nbconvert_exporter": "python",
      "pygments_lexer": "ipython3",
      "version": "3.9.7"
    },
    "vscode": {
      "interpreter": {
        "hash": "0a49e14537b7988001a03e43587ac680f7fa26aa84eb0663fc28db19a49f86ad"
      }
    }
  },
  "nbformat": 4,
  "nbformat_minor": 0
}
