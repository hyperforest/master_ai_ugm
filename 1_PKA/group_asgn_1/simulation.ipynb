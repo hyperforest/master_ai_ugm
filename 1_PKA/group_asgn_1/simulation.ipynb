{
 "cells": [
  {
   "cell_type": "code",
   "execution_count": 2,
   "metadata": {},
   "outputs": [],
   "source": [
    "import numpy as np\n",
    "import matplotlib.pyplot as plt\n",
    "\n",
    "from modules.game import Game\n",
    "from modules.node import CongklakNode\n",
    "from modules.state import CongklakState\n",
    "from modules.strategies import (\n",
    "    simple_strategy,\n",
    "    random_strategy,\n",
    "    maximize_house_strategy,\n",
    "    get_max_diff\n",
    ")\n",
    "\n",
    "%load_ext autoreload\n",
    "%autoreload 2"
   ]
  },
  {
   "cell_type": "code",
   "execution_count": 4,
   "metadata": {},
   "outputs": [
    {
     "data": {
      "text/plain": [
       "Player: 0, board:\n",
       "[[0 7 7 7 7 7 7 7]\n",
       " [0 7 7 7 7 7 7 7]]"
      ]
     },
     "execution_count": 4,
     "metadata": {},
     "output_type": "execute_result"
    }
   ],
   "source": [
    "player = 0\n",
    "state = CongklakState(player=player, holes=7, init_beads=7)\n",
    "state"
   ]
  },
  {
   "cell_type": "code",
   "execution_count": 5,
   "metadata": {},
   "outputs": [
    {
     "data": {
      "text/plain": [
       "Player: 1, board:\n",
       "[[2 8 8 8 8 8 8 0]\n",
       " [0 8 8 8 8 8 8 0]]"
      ]
     },
     "execution_count": 5,
     "metadata": {},
     "output_type": "execute_result"
    }
   ],
   "source": [
    "state = state.action(7)\n",
    "state"
   ]
  },
  {
   "cell_type": "code",
   "execution_count": null,
   "metadata": {},
   "outputs": [],
   "source": []
  }
 ],
 "metadata": {
  "kernelspec": {
   "display_name": "Python 3.9.12 ('base')",
   "language": "python",
   "name": "python3"
  },
  "language_info": {
   "codemirror_mode": {
    "name": "ipython",
    "version": 3
   },
   "file_extension": ".py",
   "mimetype": "text/x-python",
   "name": "python",
   "nbconvert_exporter": "python",
   "pygments_lexer": "ipython3",
   "version": "3.9.12"
  },
  "orig_nbformat": 4,
  "vscode": {
   "interpreter": {
    "hash": "34730052ec00f7c589c16d12768491e95399e2ab6ab31856fb0b01a7f329981f"
   }
  }
 },
 "nbformat": 4,
 "nbformat_minor": 2
}
