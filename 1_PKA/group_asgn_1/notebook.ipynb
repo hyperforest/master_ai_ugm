{
 "cells": [
  {
   "cell_type": "code",
   "execution_count": 54,
   "metadata": {},
   "outputs": [
    {
     "name": "stdout",
     "output_type": "stream",
     "text": [
      "The autoreload extension is already loaded. To reload it, use:\n",
      "  %reload_ext autoreload\n"
     ]
    }
   ],
   "source": [
    "import numpy as np\n",
    "import matplotlib.pyplot as plt\n",
    "\n",
    "from modules.game import Game\n",
    "from modules.node import CongklakNode\n",
    "from modules.state import CongklakState\n",
    "from modules.strategies import (\n",
    "    simple_strategy,\n",
    "    random_strategy,\n",
    "    maximize_house_strategy\n",
    ")\n",
    "\n",
    "%load_ext autoreload\n",
    "%autoreload 2"
   ]
  },
  {
   "cell_type": "markdown",
   "metadata": {},
   "source": [
    "- Kalo berhenti di rumah sendiri\n",
    "    - bonus move\n",
    "- Kalo berhenti di lubang sendiri\n",
    "    - kalo kosong, ambil punya lawan & kita (1), giliran stop\n",
    "    - kalo ada, ambil yg di situ doang, lanjut lagi\n",
    "- Kalo berhenti di lubang lawan\n",
    "    - kalo kosong, berhenti\n",
    "    - kalo ada, ambil yg di situ doang, lanjut lagi"
   ]
  },
  {
   "cell_type": "markdown",
   "metadata": {},
   "source": [
    "# Run"
   ]
  },
  {
   "cell_type": "code",
   "execution_count": 55,
   "metadata": {},
   "outputs": [],
   "source": [
    "def print_path(game):\n",
    "    cur_node = game.final_node\n",
    "    path = [cur_node]\n",
    "    while cur_node.parent != cur_node.node_id:\n",
    "        cur_node = game.node_list[cur_node.parent]\n",
    "        path.append(cur_node)\n",
    "\n",
    "    print('Path to final state:')\n",
    "    path = list(reversed(path))\n",
    "    for i, node in enumerate(path):\n",
    "        if i > 0:\n",
    "            print(f'Choose action: {node.action}, result:')\n",
    "        print(f'\\n> Now turn of', node.state)\n",
    "    print('Finish')"
   ]
  },
  {
   "cell_type": "code",
   "execution_count": 56,
   "metadata": {},
   "outputs": [
    {
     "name": "stdout",
     "output_type": "stream",
     "text": [
      "Player: 0, board:\n",
      "[[0 7 7 7 7 7 7 7]\n",
      " [0 7 7 7 7 7 7 7]]\n",
      "Player: 1, board:\n",
      "[[2 0 8 8 8 8 8 8]\n",
      " [0 0 8 8 8 8 8 8]]\n",
      "Player: 0, board:\n",
      "[[ 2  1  4  0 15 15 15  1]\n",
      " [14  7  3  0  1  3  2 15]]\n"
     ]
    }
   ],
   "source": [
    "state = CongklakState()\n",
    "print(state)\n",
    "\n",
    "state = state.action(1)\n",
    "print(state)\n",
    "\n",
    "state = state.action(2)\n",
    "print(state)"
   ]
  },
  {
   "cell_type": "code",
   "execution_count": 78,
   "metadata": {},
   "outputs": [
    {
     "name": "stdout",
     "output_type": "stream",
     "text": [
      "[RESULT]\n",
      "> Total observed states: 3\n",
      "> Final state:\n",
      "Player: 1, board:\n",
      "[[ 2 11 11 11  2  0 11 11]\n",
      " [ 3 10  0  2 11  1 11  1]]\n",
      "> Winner: player 0 with 59 beads!!\n",
      "> Total steps to win: 2\n"
     ]
    }
   ],
   "source": [
    "player = 0\n",
    "print_every = 100_000\n",
    "\n",
    "np.random.seed(0)\n",
    "initial_state = CongklakState(player=player, holes=7, init_beads=7)\n",
    "game = Game(\n",
    "    policies=[random_strategy, random_strategy],\n",
    "    initial_state=initial_state,\n",
    "    print_every=print_every,\n",
    "    player=player,\n",
    "    verbose=True,\n",
    "    max_total_visited_states=2\n",
    ")\n",
    "\n",
    "game.play()"
   ]
  },
  {
   "cell_type": "code",
   "execution_count": 79,
   "metadata": {},
   "outputs": [
    {
     "data": {
      "text/plain": [
       "Player: 1, board:\n",
       "[[ 2 11 11 11  2  0 11 11]\n",
       " [ 3 10  0  2 11  1 11  1]]"
      ]
     },
     "execution_count": 79,
     "metadata": {},
     "output_type": "execute_result"
    }
   ],
   "source": [
    "game.final_state"
   ]
  },
  {
   "cell_type": "code",
   "execution_count": 88,
   "metadata": {},
   "outputs": [
    {
     "name": "stdout",
     "output_type": "stream",
     "text": [
      "[RESULT]\n",
      "> Total observed states: 2\n",
      "> Final state:\n",
      "Player: 1, board:\n",
      "[[2 0 8 8 8 8 8 8]\n",
      " [0 0 8 8 8 8 8 8]]\n",
      "> Winner: player 0 with 50 beads!!\n",
      "> Total steps to win: 1\n"
     ]
    }
   ],
   "source": [
    "on_player = 0\n",
    "total_play = 1\n",
    "while on_player != 1-player:\n",
    "  game = Game(\n",
    "            policies=[maximize_house_strategy, maximize_house_strategy],\n",
    "            initial_state=initial_state,\n",
    "            player=player,\n",
    "            max_total_visited_states=total_play\n",
    "        )\n",
    "  game.play()\n",
    "  on_player = game.final_state.player\n",
    "  total_play+=1\n"
   ]
  },
  {
   "cell_type": "code",
   "execution_count": 87,
   "metadata": {},
   "outputs": [
    {
     "data": {
      "text/plain": [
       "4"
      ]
     },
     "execution_count": 87,
     "metadata": {},
     "output_type": "execute_result"
    }
   ],
   "source": [
    "total_play"
   ]
  },
  {
   "cell_type": "code",
   "execution_count": 62,
   "metadata": {},
   "outputs": [],
   "source": [
    "# print_path(game)"
   ]
  },
  {
   "cell_type": "code",
   "execution_count": 99,
   "metadata": {},
   "outputs": [],
   "source": [
    "def maximize_diff_score_strategy(state: CongklakState):\n",
    "    next_states = []\n",
    "    for i, action_num in enumerate(state.valid_actions()):\n",
    "        next_state = state.action(action_num)\n",
    "        on_player = state.player\n",
    "        total_play = 2\n",
    "        while on_player != 1-state.player:\n",
    "            game = Game(\n",
    "                        policies=[maximize_house_strategy, maximize_house_strategy],\n",
    "                        initial_state=next_state,\n",
    "                        player=state.player,\n",
    "                        max_total_visited_states=total_play\n",
    "                    )\n",
    "            game.play()\n",
    "            on_player = game.final_state.player\n",
    "            total_play+=1\n",
    "        next_boards = game.final_state.board\n",
    "        diff = next_boards[state.player, 0] - next_boards[1-state.player, 0]\n",
    "        next_states.append((diff, action_num, next_state))\n",
    "    return next_states"
   ]
  },
  {
   "cell_type": "code",
   "execution_count": 100,
   "metadata": {},
   "outputs": [
    {
     "name": "stdout",
     "output_type": "stream",
     "text": [
      "[RESULT]\n",
      "> Total observed states: 3\n",
      "> Final state:\n",
      "Player: 1, board:\n",
      "[[12  0  0  1 16 16 16  0]\n",
      " [14  0  0  1  2  4  0 16]]\n",
      "> Winner: player 0 with 61 beads!!\n",
      "> Total steps to win: 2\n",
      "[RESULT]\n",
      "> Total observed states: 3\n",
      "> Final state:\n",
      "Player: 0, board:\n",
      "[[ 4  1  3 10 10  0 10 10]\n",
      " [ 0  2  3  1 11 11 11 11]]\n",
      "> Winner: player 1 with 50 beads!!\n",
      "> Total steps to win: 2\n",
      "[RESULT]\n",
      "> Total observed states: 4\n",
      "> Final state:\n",
      "Player: 1, board:\n",
      "[[10  1  0 11 11  1  0 11]\n",
      " [ 0  3  0  2 12 12 12 12]]\n",
      "> Winner: player 1 with 53 beads!!\n",
      "> Total steps to win: 3\n",
      "[RESULT]\n",
      "> Total observed states: 3\n",
      "> Final state:\n",
      "Player: 0, board:\n",
      "[[ 2 13  1  4 12  0  1 12]\n",
      " [ 4  2  2  3 13  3 13 13]]\n",
      "> Winner: player 1 with 53 beads!!\n",
      "> Total steps to win: 2\n",
      "[RESULT]\n",
      "> Total observed states: 4\n",
      "> Final state:\n",
      "Player: 1, board:\n",
      "[[ 4  2  4  7 15  3  4 15]\n",
      " [ 4  5  5  6 16  6  1  1]]\n",
      "> Winner: player 0 with 54 beads!!\n",
      "> Total steps to win: 3\n",
      "[RESULT]\n",
      "> Total observed states: 3\n",
      "> Final state:\n",
      "Player: 1, board:\n",
      "[[17  1  0 12  4  0  2 12]\n",
      " [ 3  4  0  3  1 13 13 13]]\n",
      "> Winner: player 1 with 50 beads!!\n",
      "> Total steps to win: 2\n",
      "[RESULT]\n",
      "> Total observed states: 3\n",
      "> Final state:\n",
      "Player: 1, board:\n",
      "[[ 9  1  4  6  0  4  9 19]\n",
      " [ 7  7  0 10  0  0  2 20]]\n",
      "> Winner: player 0 with 52 beads!!\n",
      "> Total steps to win: 2\n",
      "[RESULT]\n",
      "> Total observed states: 3\n",
      "> Final state:\n",
      "Player: 0, board:\n",
      "[[ 2 11  2 11 11 11  1 10]\n",
      " [ 2  0  0  1 11 11  3 11]]\n",
      "> Winner: player 0 with 59 beads!!\n",
      "> Total steps to win: 2\n",
      "[RESULT]\n",
      "> Total observed states: 4\n",
      "> Final state:\n",
      "Player: 1, board:\n",
      "[[ 4  2  5 14 14 14  4 13]\n",
      " [ 2  3  1  3  0  1  5 13]]\n",
      "> Winner: player 0 with 70 beads!!\n",
      "> Total steps to win: 3\n",
      "[RESULT]\n",
      "> Total observed states: 3\n",
      "> Final state:\n",
      "Player: 0, board:\n",
      "[[ 6  1  4  1 19  3  0 11]\n",
      " [14  0  2  5  2  6 19  5]]\n",
      "> Winner: player 1 with 53 beads!!\n",
      "> Total steps to win: 2\n",
      "[RESULT]\n",
      "> Total observed states: 4\n",
      "> Final state:\n",
      "Player: 1, board:\n",
      "[[12  6  6  1  5  1  7  2]\n",
      " [14  3  9  0  2  3 26  1]]\n",
      "> Winner: player 1 with 58 beads!!\n",
      "> Total steps to win: 3\n"
     ]
    },
    {
     "data": {
      "text/plain": [
       "[(-2,\n",
       "  1,\n",
       "  Player: 1, board:\n",
       "  [[2 0 8 8 8 8 8 8]\n",
       "   [0 0 8 8 8 8 8 8]]),\n",
       " (10,\n",
       "  2,\n",
       "  Player: 1, board:\n",
       "  [[2 8 0 8 8 8 8 8]\n",
       "   [0 8 0 8 8 8 8 8]]),\n",
       " (0,\n",
       "  3,\n",
       "  Player: 1, board:\n",
       "  [[2 8 8 0 8 8 8 8]\n",
       "   [0 8 8 0 8 8 8 8]]),\n",
       " (14,\n",
       "  4,\n",
       "  Player: 1, board:\n",
       "  [[2 8 8 8 0 8 8 8]\n",
       "   [0 8 8 8 0 8 8 8]]),\n",
       " (2,\n",
       "  5,\n",
       "  Player: 1, board:\n",
       "  [[2 8 8 8 8 0 8 8]\n",
       "   [0 8 8 8 8 0 8 8]]),\n",
       " (2,\n",
       "  6,\n",
       "  Player: 1, board:\n",
       "  [[2 8 8 8 8 8 0 8]\n",
       "   [0 8 8 8 8 8 0 8]]),\n",
       " (-2,\n",
       "  7,\n",
       "  Player: 1, board:\n",
       "  [[2 8 8 8 8 8 8 0]\n",
       "   [0 8 8 8 8 8 8 0]])]"
      ]
     },
     "execution_count": 100,
     "metadata": {},
     "output_type": "execute_result"
    }
   ],
   "source": [
    "maximize_diff_score_strategy(initial_state)"
   ]
  },
  {
   "cell_type": "code",
   "execution_count": 22,
   "metadata": {},
   "outputs": [
    {
     "data": {
      "text/plain": [
       "Player: 1, board:\n",
       "[[ 2 11 11 11  2  0 11 11]\n",
       " [ 3 10  0  2 11  1 11  1]]"
      ]
     },
     "execution_count": 22,
     "metadata": {},
     "output_type": "execute_result"
    }
   ],
   "source": [
    "board = np.array([\n",
    "    [2, 8, 8, 8, 8, 0, 8, 8],\n",
    "    [0, 8,8,8,8, 0, 8, 8]\n",
    "])\n",
    "state = CongklakState(player=1, board=board, verbose=False)\n",
    "state = state.action(3)\n",
    "state"
   ]
  },
  {
   "cell_type": "code",
   "execution_count": null,
   "metadata": {},
   "outputs": [
    {
     "data": {
      "image/png": "[encoded data removed]",
      "text/plain": [
       "57"
      ]
     },
     "execution_count": 20,
     "metadata": {},
     "output_type": "execute_result"
    }
   ],
   "source": [
    "last_board = final_node.state.board\n",
    "last_board[0,0] - last_board[0,1]\n"
   ]
  },
  {
   "cell_type": "code",
   "execution_count": 43,
   "metadata": {},
   "outputs": [
    {
     "data": {
      "text/plain": [
       "0"
      ]
     },
     "execution_count": 43,
     "metadata": {},
     "output_type": "execute_result"
    }
   ],
   "source": [
    "score_list = [mhs[0] for mhs in maximize_house_strategy(initial_state)]\n",
    "score_list.index(max(score_list))"
   ]
  },
  {
   "cell_type": "code",
   "execution_count": 52,
   "metadata": {},
   "outputs": [],
   "source": [
    "def maximize_diff_score_strategy(state: CongklakState):\n",
    "    next_states = []\n",
    "    for i, action_num in enumerate(state.valid_actions()):\n",
    "        next_state = state.action(action_num)\n",
    "        # score_list = []\n",
    "        # for value, next_action_num, next_next_state in maximize_house_strategy(next_state):\n",
    "        #     if (next_next_state.player == state.player):\n",
    "        #         score_list.append(value)\n",
    "        # next_action_num = score_list.index(max(score_list))\n",
    "        # next_next_state = state.action(next_action_num + 1)\n",
    "        # next_board = next_next_state.board\n",
    "        # diff = next_board[state.player,0] - next_board[1-state.player,0]\n",
    "        diff = 0\n",
    "        next_states.append((-1 * diff, action_num, next_state))\n",
    "    return next_states"
   ]
  },
  {
   "cell_type": "code",
   "execution_count": 53,
   "metadata": {},
   "outputs": [
    {
     "data": {
      "text/plain": [
       "[(0,\n",
       "  1,\n",
       "  Player: 0, board:\n",
       "  [[0 8 7 7 7 7 7 7]\n",
       "   [0 0 8 8 8 8 8 8]]),\n",
       " (0,\n",
       "  2,\n",
       "  Player: 0, board:\n",
       "  [[0 8 8 7 7 7 7 7]\n",
       "   [0 7 0 8 8 8 8 8]]),\n",
       " (0,\n",
       "  3,\n",
       "  Player: 0, board:\n",
       "  [[0 8 8 8 7 7 7 7]\n",
       "   [0 7 7 0 8 8 8 8]]),\n",
       " (0,\n",
       "  4,\n",
       "  Player: 0, board:\n",
       "  [[0 8 8 8 8 7 7 7]\n",
       "   [0 7 7 7 0 8 8 8]]),\n",
       " (0,\n",
       "  5,\n",
       "  Player: 0, board:\n",
       "  [[0 8 8 8 8 8 7 7]\n",
       "   [0 7 7 7 7 0 8 8]]),\n",
       " (0,\n",
       "  6,\n",
       "  Player: 0, board:\n",
       "  [[0 8 8 8 8 8 8 7]\n",
       "   [0 7 7 7 7 7 0 8]]),\n",
       " (0,\n",
       "  7,\n",
       "  Player: 0, board:\n",
       "  [[0 8 8 8 8 8 8 8]\n",
       "   [0 7 7 7 7 7 7 0]])]"
      ]
     },
     "execution_count": 53,
     "metadata": {},
     "output_type": "execute_result"
    }
   ],
   "source": [
    "maximize_diff_score_strategy(initial_state)"
   ]
  },
  {
   "cell_type": "code",
   "execution_count": 6,
   "metadata": {},
   "outputs": [
    {
     "data": {
      "text/plain": [
       "[((0, 0),\n",
       "  1,\n",
       "  Player: 1, board:\n",
       "  [[0 0 8 8 8 8 8 8]\n",
       "   [0 8 7 7 7 7 7 7]]),\n",
       " ((0, 1),\n",
       "  2,\n",
       "  Player: 1, board:\n",
       "  [[0 7 0 8 8 8 8 8]\n",
       "   [0 8 8 7 7 7 7 7]]),\n",
       " ((0, 2),\n",
       "  3,\n",
       "  Player: 1, board:\n",
       "  [[0 7 7 0 8 8 8 8]\n",
       "   [0 8 8 8 7 7 7 7]]),\n",
       " ((0, 3),\n",
       "  4,\n",
       "  Player: 1, board:\n",
       "  [[0 7 7 7 0 8 8 8]\n",
       "   [0 8 8 8 8 7 7 7]]),\n",
       " ((0, 4),\n",
       "  5,\n",
       "  Player: 1, board:\n",
       "  [[0 7 7 7 7 0 8 8]\n",
       "   [0 8 8 8 8 8 7 7]]),\n",
       " ((0, 5),\n",
       "  6,\n",
       "  Player: 1, board:\n",
       "  [[0 7 7 7 7 7 0 8]\n",
       "   [0 8 8 8 8 8 8 7]]),\n",
       " ((0, 6),\n",
       "  7,\n",
       "  Player: 1, board:\n",
       "  [[0 7 7 7 7 7 7 0]\n",
       "   [0 8 8 8 8 8 8 8]])]"
      ]
     },
     "execution_count": 6,
     "metadata": {},
     "output_type": "execute_result"
    }
   ],
   "source": [
    "initial_state = CongklakState(player=player, holes=7, init_beads=7)\n",
    "maximize_house_strategy(initial_state)"
   ]
  },
  {
   "cell_type": "code",
   "execution_count": 5,
   "metadata": {},
   "outputs": [
    {
     "data": {
      "image/png": "[encoded data removed]",
      "text/plain": [
       "<Figure size 720x360 with 1 Axes>"
      ]
     },
     "metadata": {
      "needs_background": "light"
     },
     "output_type": "display_data"
    }
   ],
   "source": [
    "player_score_list = []\n",
    "for node in path:\n",
    "    state = node.state\n",
    "    player_score_list.append((state.player, state.board[state.player, 0]))\n",
    "\n",
    "score_turn_list = np.zeros((len(player_score_list), 2), dtype=np.int32)\n",
    "for i, (player, score) in enumerate(player_score_list):\n",
    "    score_turn_list[i, player] = score\n",
    "    score_turn_list[i, 1 - player] = score_turn_list[i - 1, 1 - player]\n",
    "\n",
    "plt.figure(figsize=(10, 5))\n",
    "plt.plot(score_turn_list[:, 0], label='Player 0', color='red')\n",
    "plt.plot(score_turn_list[:, 1], label='Player 1', color='blue')\n",
    "plt.legend()\n",
    "plt.xticks(np.arange(0, len(score_turn_list), 5))\n",
    "plt.yticks(np.arange(0, 55, 5))\n",
    "plt.xlabel('Turn')\n",
    "plt.ylabel('Score')\n",
    "plt.grid()\n",
    "plt.gca().set_axisbelow(True)\n",
    "plt.show()"
   ]
  },
  {
   "cell_type": "code",
   "execution_count": null,
   "metadata": {},
   "outputs": [],
   "source": []
  }
 ],
 "metadata": {
  "kernelspec": {
   "display_name": "Python 3.9.7 ('base')",
   "language": "python",
   "name": "python3"
  },
  "language_info": {
   "codemirror_mode": {
    "name": "ipython",
    "version": 3
   },
   "file_extension": ".py",
   "mimetype": "text/x-python",
   "name": "python",
   "nbconvert_exporter": "python",
   "pygments_lexer": "ipython3",
   "version": "3.9.7"
  },
  "orig_nbformat": 4,
  "vscode": {
   "interpreter": {
    "hash": "d67cd680d6a5df865c266ae8f69836f2f07b941fb9f47243c9a07e69a915523e"
   }
  }
 },
 "nbformat": 4,
 "nbformat_minor": 2
}
